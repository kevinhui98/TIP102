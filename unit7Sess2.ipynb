{
 "cells": [
  {
   "cell_type": "code",
   "execution_count": 4,
   "metadata": {},
   "outputs": [
    {
     "name": "stdout",
     "output_type": "stream",
     "text": [
      "[2, 2]\n",
      "[-1, -1]\n"
     ]
    }
   ],
   "source": [
    "# Standard Problem Set Version 1\n",
    "# Problem 6: Cruise Ship Treasure Hunt\n",
    "def find_treasure(matrix, treasure):\n",
    "    for i in range(len(matrix)-1,-1,-1):\n",
    "        if matrix[i][0] > treasure:\n",
    "            continue\n",
    "        for j in range(len(matrix[0])):\n",
    "            if matrix[i][j] == treasure:\n",
    "                return [i,j]\n",
    "    return [-1,-1]\n",
    "            \n",
    "        \n",
    "rooms = [\n",
    "    [1, 4, 7, 11],\n",
    "    [8, 9, 10, 20],\n",
    "    [11, 12, 17, 30],\n",
    "    [18, 21, 23, 40]\n",
    "]\n",
    "\n",
    "print(find_treasure(rooms, 17))\n",
    "print(find_treasure(rooms, 5))"
   ]
  },
  {
   "cell_type": "code",
   "execution_count": 8,
   "metadata": {},
   "outputs": [
    {
     "name": "stdout",
     "output_type": "stream",
     "text": [
      "['Crazy in Love', 'Formation', 'Halo']\n",
      "['Irreplaceable', 'Love on Top', 'Single Ladies']\n"
     ]
    }
   ],
   "source": [
    "# Standard Problem Set Version 2\n",
    "# Problem 6: Merge Sort Playlist\n",
    "def merge_sort_helper(left_arr, right_arr):\n",
    "    # Create an empty list to store merged result list\n",
    "    res = []\n",
    "    # Use pointers to iterate through left_arr and right_arr\n",
    "    left_ptr = 0\n",
    "    right_ptr = 0\n",
    "        # Compare their elements, and add the smaller element to result list\n",
    "    while left_ptr < len(left_arr) and right_ptr < len(right_arr):\n",
    "        if left_arr[left_ptr] < right_arr[right_ptr]:\n",
    "            res.append(left_arr[left_ptr])\n",
    "            left_ptr += 1\n",
    "        else:\n",
    "            res.append(right_arr[right_ptr])\n",
    "            right_ptr += 1\n",
    "        # Increment pointer of list with smaller element\n",
    "    # Add any remaining elements from the left half\n",
    "    while left_ptr < len(left_arr):\n",
    "        res.append(left_arr[left_ptr])\n",
    "        left_ptr += 1\n",
    "\n",
    "    # Add any remaining elements from the right half\n",
    "    while right_ptr < len(right_arr):\n",
    "        res.append(right_arr[right_ptr])\n",
    "        right_ptr += 1\n",
    "\n",
    "    # Return the merged list\n",
    "    return res\n",
    "\n",
    "def merge_sort_playlist(playlist):\n",
    "    # Base Case: \n",
    "    # If the list has 1 or 0 elements, it's already sorted\n",
    "    if len(playlist) < 2:\n",
    "        return playlist\n",
    "    # Recursive Cases:\n",
    "    # Divide the list into two halves\n",
    "    mid = len(playlist) // 2\n",
    "    # Merge sort first half\n",
    "    left_half = merge_sort_playlist(playlist[:mid])\n",
    "    # Merge sort second half\n",
    "    right_half = merge_sort_playlist(playlist[mid:])\n",
    "    # Use the recursive helper to merge the sorted halves (pass in sorted left half, and sorted right half)\n",
    "    # Return the merged list \n",
    "    return merge_sort_helper(left_half, right_half)\n",
    "    \n",
    "print(merge_sort_playlist([\"Formation\", \"Crazy in Love\", \"Halo\"]))\n",
    "print(merge_sort_playlist([\"Single Ladies\", \"Love on Top\", \"Irreplaceable\"]))"
   ]
  },
  {
   "cell_type": "code",
   "execution_count": 10,
   "metadata": {},
   "outputs": [
    {
     "name": "stdout",
     "output_type": "stream",
     "text": [
      "2\n",
      "4\n"
     ]
    }
   ],
   "source": [
    "# Advanced Problem Set Version 1\n",
    "# Problem 7: Longest Substring With at Least K Repeating Characters\n",
    "def longest_substring(s, k):\n",
    "    # Base case\n",
    "    if len(s) == 0:\n",
    "        return 0\n",
    "    if len(s) < k:\n",
    "        return 0\n",
    "\n",
    "    # Count frequency of characters\n",
    "    char_count = {}\n",
    "    for char in s:\n",
    "        if char in char_count:\n",
    "            char_count[char] += 1\n",
    "        else:\n",
    "            char_count[char] = 1\n",
    "\n",
    "    # Find the first character that has a count less than k\n",
    "    for char in char_count:\n",
    "        if char_count[char] < k:\n",
    "            # Split the string at this character\n",
    "            substrings = s.split(char)\n",
    "            # Recur for all substrings and take the maximum\n",
    "            max_length = 0\n",
    "            for substring in substrings:\n",
    "                max_length = max(max_length, longest_substring(substring, k))\n",
    "            return max_length\n",
    "\n",
    "    # If we reach here, it means all characters meet the requirement\n",
    "    return len(s)\n",
    "print(longest_substring(\"tatooine\", 2))\n",
    "print(longest_substring(\"chewbacca\", 2))"
   ]
  },
  {
   "cell_type": "code",
   "execution_count": 12,
   "metadata": {},
   "outputs": [
    {
     "name": "stdout",
     "output_type": "stream",
     "text": [
      "aaA\n",
      "bB\n",
      "\n"
     ]
    }
   ],
   "source": [
    "# Advanced Problem Set Version 2\n",
    "# Problem 7: Longest Harmonious Subsequence\n",
    "def longest_harmonious_subsequence(notes):\n",
    "    frequency = {}\n",
    "    \n",
    "    for note in notes:\n",
    "        if note in frequency:\n",
    "            frequency[note] += 1\n",
    "        else:\n",
    "            frequency[note] = 1\n",
    "            \n",
    "    longest_length = 0\n",
    "    longest_subsequence = \"\"\n",
    "    \n",
    "    for i in range(26):\n",
    "        lower = chr(i + ord('a'))\n",
    "        upper = chr(i + ord('A'))\n",
    "        \n",
    "        if lower in frequency and upper in frequency:\n",
    "            current_length = frequency[lower] + frequency[upper]\n",
    "            \n",
    "            if current_length > longest_length:\n",
    "                longest_length = current_length\n",
    "                longest_subsequence = lower * frequency[lower] + upper * frequency[upper]\n",
    "\n",
    "    return longest_subsequence\n",
    "print(longest_harmonious_subsequence(\"GadaAg\"))\n",
    "print(longest_harmonious_subsequence(\"Bb\"))\n",
    "print(longest_harmonious_subsequence(\"c\"))"
   ]
  }
 ],
 "metadata": {
  "kernelspec": {
   "display_name": "base",
   "language": "python",
   "name": "python3"
  },
  "language_info": {
   "codemirror_mode": {
    "name": "ipython",
    "version": 3
   },
   "file_extension": ".py",
   "mimetype": "text/x-python",
   "name": "python",
   "nbconvert_exporter": "python",
   "pygments_lexer": "ipython3",
   "version": "3.12.4"
  }
 },
 "nbformat": 4,
 "nbformat_minor": 2
}

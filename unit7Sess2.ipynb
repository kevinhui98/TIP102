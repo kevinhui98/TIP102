{
 "cells": [
  {
   "cell_type": "code",
   "execution_count": 3,
   "metadata": {},
   "outputs": [
    {
     "ename": "IndexError",
     "evalue": "list index out of range",
     "output_type": "error",
     "traceback": [
      "\u001b[0;31m---------------------------------------------------------------------------\u001b[0m",
      "\u001b[0;31mIndexError\u001b[0m                                Traceback (most recent call last)",
      "Cell \u001b[0;32mIn[3], line 20\u001b[0m\n\u001b[1;32m     10\u001b[0m     \u001b[38;5;28;01mreturn\u001b[39;00m [\u001b[38;5;241m-\u001b[39m\u001b[38;5;241m1\u001b[39m,\u001b[38;5;241m-\u001b[39m\u001b[38;5;241m1\u001b[39m]\n\u001b[1;32m     13\u001b[0m rooms \u001b[38;5;241m=\u001b[39m [\n\u001b[1;32m     14\u001b[0m     [\u001b[38;5;241m1\u001b[39m, \u001b[38;5;241m4\u001b[39m, \u001b[38;5;241m7\u001b[39m, \u001b[38;5;241m11\u001b[39m],\n\u001b[1;32m     15\u001b[0m     [\u001b[38;5;241m8\u001b[39m, \u001b[38;5;241m9\u001b[39m, \u001b[38;5;241m10\u001b[39m, \u001b[38;5;241m20\u001b[39m],\n\u001b[1;32m     16\u001b[0m     [\u001b[38;5;241m11\u001b[39m, \u001b[38;5;241m12\u001b[39m, \u001b[38;5;241m17\u001b[39m, \u001b[38;5;241m30\u001b[39m],\n\u001b[1;32m     17\u001b[0m     [\u001b[38;5;241m18\u001b[39m, \u001b[38;5;241m21\u001b[39m, \u001b[38;5;241m23\u001b[39m, \u001b[38;5;241m40\u001b[39m]\n\u001b[1;32m     18\u001b[0m ]\n\u001b[0;32m---> 20\u001b[0m \u001b[38;5;28mprint\u001b[39m(find_treasure(rooms, \u001b[38;5;241m17\u001b[39m))\n\u001b[1;32m     21\u001b[0m \u001b[38;5;28mprint\u001b[39m(find_treasure(rooms, \u001b[38;5;241m5\u001b[39m))\n",
      "Cell \u001b[0;32mIn[3], line 5\u001b[0m, in \u001b[0;36mfind_treasure\u001b[0;34m(matrix, treasure)\u001b[0m\n\u001b[1;32m      3\u001b[0m \u001b[38;5;28;01mdef\u001b[39;00m \u001b[38;5;21mfind_treasure\u001b[39m(matrix, treasure):\n\u001b[1;32m      4\u001b[0m     \u001b[38;5;28;01mfor\u001b[39;00m i \u001b[38;5;129;01min\u001b[39;00m \u001b[38;5;28mrange\u001b[39m(\u001b[38;5;28mlen\u001b[39m(matrix),\u001b[38;5;241m-\u001b[39m\u001b[38;5;241m1\u001b[39m,\u001b[38;5;241m-\u001b[39m\u001b[38;5;241m1\u001b[39m):\n\u001b[0;32m----> 5\u001b[0m         \u001b[38;5;28;01mif\u001b[39;00m matrix[i][\u001b[38;5;241m0\u001b[39m] \u001b[38;5;241m>\u001b[39m treasure:\n\u001b[1;32m      6\u001b[0m             \u001b[38;5;28;01mcontinue\u001b[39;00m\n\u001b[1;32m      7\u001b[0m         \u001b[38;5;28;01mfor\u001b[39;00m j \u001b[38;5;129;01min\u001b[39;00m \u001b[38;5;28mrange\u001b[39m(\u001b[38;5;28mlen\u001b[39m(matrix[\u001b[38;5;241m0\u001b[39m])):\n",
      "\u001b[0;31mIndexError\u001b[0m: list index out of range"
     ]
    }
   ],
   "source": [
    "# Standard Problem Set Version 1\n",
    "# Problem 6: Cruise Ship Treasure Hunt\n",
    "def find_treasure(matrix, treasure):\n",
    "    for i in range(len(matrix)-1,-1,-1):\n",
    "        if matrix[i][0] > treasure:\n",
    "            continue\n",
    "        for j in range(len(matrix[0])):\n",
    "            if matrix[i][j] == treasure:\n",
    "                return [i,j]\n",
    "    return [-1,-1]\n",
    "            \n",
    "        \n",
    "rooms = [\n",
    "    [1, 4, 7, 11],\n",
    "    [8, 9, 10, 20],\n",
    "    [11, 12, 17, 30],\n",
    "    [18, 21, 23, 40]\n",
    "]\n",
    "\n",
    "print(find_treasure(rooms, 17))\n",
    "print(find_treasure(rooms, 5))"
   ]
  },
  {
   "cell_type": "code",
   "execution_count": null,
   "metadata": {},
   "outputs": [],
   "source": []
  }
 ],
 "metadata": {
  "kernelspec": {
   "display_name": "base",
   "language": "python",
   "name": "python3"
  },
  "language_info": {
   "codemirror_mode": {
    "name": "ipython",
    "version": 3
   },
   "file_extension": ".py",
   "mimetype": "text/x-python",
   "name": "python",
   "nbconvert_exporter": "python",
   "pygments_lexer": "ipython3",
   "version": "3.12.4"
  }
 },
 "nbformat": 4,
 "nbformat_minor": 2
}

{
 "cells": [
  {
   "cell_type": "code",
   "execution_count": 4,
   "metadata": {},
   "outputs": [
    {
     "name": "stdout",
     "output_type": "stream",
     "text": [
      "7 -> 0 -> 8\n"
     ]
    }
   ],
   "source": [
    "# Standard Problem Set Version 1\n",
    "# Problem 6: Adding Up the Evidence\n",
    "class Node:\n",
    "    def __init__(self, value, next=None):\n",
    "        self.value = value\n",
    "        self.next = next\n",
    "\n",
    "# For testing\n",
    "def print_linked_list(head):\n",
    "    current = head\n",
    "    while current:\n",
    "        print(current.value, end=\" -> \" if current.next else \"\\n\")\n",
    "        current = current.next\n",
    "\n",
    "def add_two_numbers(head_a, head_b):\n",
    "    res  = Node(None)\n",
    "    curr = res\n",
    "    carry = 0\n",
    "    while head_a or head_b or carry:\n",
    "        val1 = head_a.value if head_a else 0\n",
    "        val2 = head_b.value if head_b else 0\n",
    "        val = val1 + val2 + carry\n",
    "        carry = val // 10\n",
    "        val = val % 10\n",
    "        curr.next = Node(val)\n",
    "        \n",
    "        curr = curr.next\n",
    "        head_a = head_a.next if head_a else None\n",
    "        head_b = head_b.next if head_b else None\n",
    "    return res.next\n",
    "head_a = Node(2, Node(4, Node(3))) # 342\n",
    "head_b = Node(5, Node(6, Node(4))) # 465\n",
    "\n",
    "print_linked_list(add_two_numbers(head_a, head_b))"
   ]
  },
  {
   "cell_type": "code",
   "execution_count": 9,
   "metadata": {},
   "outputs": [
    {
     "name": "stdout",
     "output_type": "stream",
     "text": [
      "4 -> 15\n",
      "1 -> 3 -> 4\n"
     ]
    }
   ],
   "source": [
    "# Standard Problem Set Version 2\n",
    "# Problem 6: Merging Trail Segments\n",
    "class Node:\n",
    "    def __init__(self, value, next=None):\n",
    "        self.value = value\n",
    "        self.next = next\n",
    "\n",
    "# For testing\n",
    "def print_linked_list(head):\n",
    "    current = head\n",
    "    while current:\n",
    "        print(current.value, end=\" -> \" if current.next else \"\\n\")\n",
    "        current = current.next\n",
    "\n",
    "def merge_trail(trailhead):\n",
    "    res = Node(None)\n",
    "    curr = res\n",
    "    total = 0\n",
    "    while trailhead:\n",
    "        if trailhead.value != 0:\n",
    "            total += trailhead.value\n",
    "        else:\n",
    "            curr.next = Node(total)\n",
    "            curr = curr.next\n",
    "            total = 0\n",
    "        trailhead = trailhead.next\n",
    "    return res.next.next\n",
    "trail1 = Node(0, Node(3, Node(1, Node(0, Node(4, Node(5, Node(4, Node(2, Node(0)))))))))\n",
    "trail2 = Node(0, Node(1, Node(0, Node(3, Node(0, Node(2, Node(2, Node(0))))))))\n",
    "\n",
    "print_linked_list(merge_trail(trail1))\n",
    "print_linked_list(merge_trail(trail2))"
   ]
  },
  {
   "cell_type": "code",
   "execution_count": 26,
   "metadata": {},
   "outputs": [
    {
     "name": "stdout",
     "output_type": "stream",
     "text": [
      "3 -> 7 -> 8\n",
      "1 -> 9 -> 9 -> 8\n"
     ]
    }
   ],
   "source": [
    "# Advanced Problem Set Version 1\n",
    "# Problem 5: Double Listening Count\n",
    "class Node:\n",
    "\tdef __init__(self, value, next=None):\n",
    "\t\tself.value = value\n",
    "\t\tself.next = next\n",
    "\n",
    "# For testing\n",
    "def print_linked_list(head):\n",
    "    current = head\n",
    "    while current:\n",
    "        print(current.value, end=\" -> \" if current.next else \"\")\n",
    "        current = current.next\n",
    "    print()\n",
    "\n",
    "def double_listeners(monthly_listeners):\n",
    "    num = 0\n",
    "    while monthly_listeners:\n",
    "        if num > 0:\n",
    "            num = num * 10\n",
    "        num += monthly_listeners.value \n",
    "        monthly_listeners = monthly_listeners.next\n",
    "    # num = \"\".join(num)\n",
    "    num = num * 2\n",
    "    num = str(num)\n",
    "    res = Node(None)\n",
    "    curr = res\n",
    "    for digit in num:\n",
    "        curr.next = Node(digit)\n",
    "        curr = curr.next\n",
    "    \n",
    "    return res.next\n",
    "\n",
    "monthly_listeners1 = Node(1, Node(8, Node(9))) # 189\n",
    "monthly_listeners2 = Node(9, Node(9, Node(9))) # 999\n",
    "print_linked_list(double_listeners(monthly_listeners1))\n",
    "print_linked_list(double_listeners(monthly_listeners2))"
   ]
  },
  {
   "cell_type": "code",
   "execution_count": 31,
   "metadata": {},
   "outputs": [
    {
     "name": "stdout",
     "output_type": "stream",
     "text": [
      "2\n",
      "2\n"
     ]
    }
   ],
   "source": [
    "# Advanced Problem Set Version 2\n",
    "# Problem 5: Book Similarity\n",
    "class Node:\n",
    "    def __init__(self, value, next=None):\n",
    "        self.value = value\n",
    "        self.next = next\n",
    "\n",
    "# For testing\n",
    "def print_linked_list(head):\n",
    "    current = head\n",
    "    while current:\n",
    "        print(current.value, end=\" -> \" if current.next else \"\")\n",
    "        current = current.next\n",
    "    print()\n",
    "\n",
    "def similar_book_count(all_books, subset):\n",
    "    subset_set = set(subset)\n",
    "    count = 0\n",
    "    found = False\n",
    "\n",
    "    current = all_books\n",
    "    while current:\n",
    "        if current.value in subset_set:\n",
    "            if not found:\n",
    "                count += 1\n",
    "                found = True\n",
    "        else:\n",
    "            found = False \n",
    "        current = current.next\n",
    "\n",
    "    return count\n",
    "all_books1 = Node(0, Node(1, Node(2, Node(3))))\n",
    "subset1 = [0, 1, 3]\n",
    "\n",
    "all_books2 = Node(0, Node(1, Node(2, Node(3, Node(4)))))\n",
    "subset2 = [0, 3, 1, 4]\n",
    "\n",
    "print(similar_book_count(all_books1, subset1))\n",
    "print(similar_book_count(all_books2, subset2))"
   ]
  },
  {
   "cell_type": "code",
   "execution_count": null,
   "metadata": {},
   "outputs": [],
   "source": []
  }
 ],
 "metadata": {
  "kernelspec": {
   "display_name": "base",
   "language": "python",
   "name": "python3"
  },
  "language_info": {
   "codemirror_mode": {
    "name": "ipython",
    "version": 3
   },
   "file_extension": ".py",
   "mimetype": "text/x-python",
   "name": "python",
   "nbconvert_exporter": "python",
   "pygments_lexer": "ipython3",
   "version": "3.12.4"
  }
 },
 "nbformat": 4,
 "nbformat_minor": 2
}

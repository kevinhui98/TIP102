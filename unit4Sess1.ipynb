{
 "cells": [
  {
   "cell_type": "code",
   "execution_count": 6,
   "metadata": {},
   "outputs": [
    {
     "name": "stdout",
     "output_type": "stream",
     "text": [
      "['Abstract Horizon', 'Pixel Dreams', 'Future City']\n",
      "['Crypto Kitty', 'Galactic Voyage']\n",
      "['Golden Hour']\n"
     ]
    }
   ],
   "source": [
    "def extract_nft_names(nft_collection):\n",
    "    name = []\n",
    "    for nft in nft_collection:\n",
    "        name.append(nft[\"name\"])\n",
    "    return name\n",
    "# Example usage:\n",
    "nft_collection = [\n",
    "    {\"name\": \"Abstract Horizon\", \"creator\": \"ArtByAlex\", \"value\": 5.4},\n",
    "    {\"name\": \"Pixel Dreams\", \"creator\": \"DreamyPixel\", \"value\": 7.2},\n",
    "    {\"name\": \"Future City\", \"creator\": \"UrbanArt\", \"value\": 3.8}\n",
    "]\n",
    "\n",
    "nft_collection_2 = [\n",
    "    {\"name\": \"Crypto Kitty\", \"creator\": \"CryptoPets\", \"value\": 10.5},\n",
    "    {\"name\": \"Galactic Voyage\", \"creator\": \"SpaceArt\", \"value\": 6.7}\n",
    "]\n",
    "\n",
    "nft_collection_3 = [\n",
    "    {\"name\": \"Golden Hour\", \"creator\": \"SunsetArtist\", \"value\": 8.9}\n",
    "]\n",
    "\n",
    "print(extract_nft_names(nft_collection))\n",
    "print(extract_nft_names(nft_collection_2))\n",
    "print(extract_nft_names(nft_collection_3))"
   ]
  },
  {
   "cell_type": "code",
   "execution_count": 7,
   "metadata": {},
   "outputs": [
    {
     "name": "stdout",
     "output_type": "stream",
     "text": [
      "(7.2, 9.0)\n",
      "(6.3, 7.8)\n",
      "(2.5, 4.0)\n"
     ]
    }
   ],
   "source": [
    "def find_closest_nft_values(nft_values, budget):\n",
    "    lower = None\n",
    "    upper = None\n",
    "    [l,r] = 0, len(nft_values) -1\n",
    "    while l <= r:\n",
    "        m = (l + r) //2\n",
    "        if nft_values[m] < budget:\n",
    "            lower = nft_values[m]\n",
    "            l = m +1\n",
    "        elif nft_values[m] > budget:\n",
    "            upper = nft_values[m]\n",
    "            r = m -1\n",
    "        else:\n",
    "            \n",
    "            return (nft_values[m], nft_values[m])\n",
    "    if lower is None and l < len(nft_values):\n",
    "        upper = nft_values[l]\n",
    "    if upper is None and r >=0:\n",
    "        lower = nft_values[r]\n",
    "    return (lower,upper)\n",
    "nft_values = [3.5, 5.4, 7.2, 9.0, 10.5]\n",
    "nft_values_2 = [2.0, 4.5, 6.3, 7.8, 12.1]\n",
    "nft_values_3 = [1.0, 2.5, 4.0, 6.0, 9.0]\n",
    "\n",
    "print(find_closest_nft_values(nft_values, 8.0))\n",
    "print(find_closest_nft_values(nft_values_2, 6.5))\n",
    "print(find_closest_nft_values(nft_values_3, 3.0))"
   ]
  },
  {
   "cell_type": "code",
   "execution_count": 8,
   "metadata": {},
   "outputs": [
    {
     "name": "stdout",
     "output_type": "stream",
     "text": [
      "Dogecoin to the moon!\n",
      "This is fine\n",
      "Philosoraptor\n"
     ]
    }
   ],
   "source": [
    "# Standard Problem Set Version 2\n",
    "# Problem 8: Analyze Meme Trends\n",
    "def find_trending_meme(memes, start_day, end_day):\n",
    "    greatestTrend = 0\n",
    "    greatestMeme = memes[0]\n",
    "    for meme in memes:\n",
    "        trend = 0\n",
    "        for i in range(start_day,end_day+1):\n",
    "            trend += meme[\"reposts\"][i]\n",
    "        if trend > greatestTrend:\n",
    "            greatestTrend = trend\n",
    "            greatestMeme = meme\n",
    "    return greatestMeme[\"name\"]\n",
    "memes = [\n",
    "    {\"name\": \"Distracted boyfriend\", \"reposts\": [5, 3, 2, 7, 6]},\n",
    "    {\"name\": \"Dogecoin to the moon!\", \"reposts\": [2, 4, 6, 8, 10]},\n",
    "    {\"name\": \"One does not simply walk into Mordor\", \"reposts\": [3, 3, 5, 4, 2]}\n",
    "]\n",
    "\n",
    "memes_2 = [\n",
    "    {\"name\": \"Surprised Pikachu\", \"reposts\": [2, 1, 4, 5, 3]},\n",
    "    {\"name\": \"This is fine\", \"reposts\": [3, 5, 2, 6, 4]},\n",
    "    {\"name\": \"Expanding brain\", \"reposts\": [4, 2, 1, 4, 2]}\n",
    "]\n",
    "\n",
    "memes_3 = [\n",
    "    {\"name\": \"Y U No?\", \"reposts\": [1, 2, 1, 2, 1]},\n",
    "    {\"name\": \"Philosoraptor\", \"reposts\": [3, 1, 3, 1, 3]}\n",
    "]\n",
    "print(find_trending_meme(memes, 1, 3))\n",
    "print(find_trending_meme(memes_2, 0, 2))\n",
    "print(find_trending_meme(memes_3, 2, 4))"
   ]
  }
 ],
 "metadata": {
  "kernelspec": {
   "display_name": "base",
   "language": "python",
   "name": "python3"
  },
  "language_info": {
   "codemirror_mode": {
    "name": "ipython",
    "version": 3
   },
   "file_extension": ".py",
   "mimetype": "text/x-python",
   "name": "python",
   "nbconvert_exporter": "python",
   "pygments_lexer": "ipython3",
   "version": "3.12.4"
  }
 },
 "nbformat": 4,
 "nbformat_minor": 2
}

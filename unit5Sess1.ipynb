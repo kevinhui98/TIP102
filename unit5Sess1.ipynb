{
 "cells": [
  {
   "cell_type": "code",
   "execution_count": 27,
   "metadata": {},
   "outputs": [],
   "source": [
    "class Node:\n",
    "    def __init__(self, value, next=None):\n",
    "        self.value = value\n",
    "        self.next = next\n",
    "\n",
    "\n",
    "    def traverse(head):\n",
    "        current = head\n",
    "        while current:\n",
    "            # Perform operations on the current node (e.g., print the value)\n",
    "            current = current.next # Move to the next node"
   ]
  },
  {
   "cell_type": "code",
   "execution_count": 29,
   "metadata": {},
   "outputs": [
    {
     "name": "stdout",
     "output_type": "stream",
     "text": [
      "Isabelle->Saharah->C.J.\n"
     ]
    }
   ],
   "source": [
    "#Standard Problem Set Version 1\n",
    "#Problem 12: Print List\n",
    "def print_list(node):\n",
    "    res = \"\"\n",
    "    while node:\n",
    "        res += node.value\n",
    "        node = node.next\n",
    "        if node:\n",
    "            res += '->'\n",
    "    return res\n",
    "isabelle = Node(\"Isabelle\")\n",
    "saharah = Node(\"Saharah\")\n",
    "cj = Node(\"C.J.\")\n",
    "\n",
    "isabelle.next = saharah\n",
    "saharah.next = cj\n",
    "\n",
    "print(print_list(isabelle))"
   ]
  },
  {
   "cell_type": "code",
   "execution_count": 30,
   "metadata": {},
   "outputs": [
    {
     "name": "stdout",
     "output_type": "stream",
     "text": [
      "Spike chases Tom chases Jerry chases Gouda\n"
     ]
    }
   ],
   "source": [
    "#Standard Problem Set Version 2\n",
    "# Problem 12: Chase String\n",
    "def chase_list(node):\n",
    "    res = ''\n",
    "    while node:\n",
    "        res += node.value\n",
    "        node = node.next\n",
    "        if node:\n",
    "            res +=' chases '\n",
    "    return res\n",
    "dog = Node(\"Spike\")\n",
    "cat = Node(\"Tom\")\n",
    "mouse = Node(\"Jerry\")\n",
    "cheese = Node(\"Gouda\")\n",
    "\n",
    "dog.next = cat\n",
    "cat.next = mouse\n",
    "mouse.next = cheese\n",
    "\n",
    "print(chase_list(dog))"
   ]
  },
  {
   "cell_type": "code",
   "execution_count": 44,
   "metadata": {},
   "outputs": [
    {
     "name": "stdout",
     "output_type": "stream",
     "text": [
      "Carp -> Dace -> Cherry Salmon -> Rainbow Trout\n"
     ]
    }
   ],
   "source": [
    "# Advanced Problem Set Version 1\n",
    "# Problem 8: Restocking the Lake\n",
    "class Node:\n",
    "    def __init__(self, fish_name, next=None):\n",
    "        self.fish_name = fish_name\n",
    "        self.next = next\n",
    "\n",
    "# For testing\n",
    "def print_linked_list(head):\n",
    "    current = head\n",
    "    while current:\n",
    "        print(current.fish_name, end=\" -> \" if current.next else \"\\n\")\n",
    "        current = current.next\n",
    "\n",
    "def restock(head, new_fish):\n",
    "    curr = head\n",
    "    fishy = Node(new_fish)\n",
    "    res = ''\n",
    "    while curr.next:\n",
    "        curr = curr.next\n",
    "    curr.next = fishy\n",
    "    return head\n",
    "\n",
    "fish_list = Node(\"Carp\", Node(\"Dace\", Node(\"Cherry Salmon\")))\n",
    "print_linked_list(restock(fish_list, \"Rainbow Trout\"))"
   ]
  },
  {
   "cell_type": "code",
   "execution_count": 48,
   "metadata": {},
   "outputs": [
    {
     "name": "stdout",
     "output_type": "stream",
     "text": [
      "Mario -> Peach -> Daisy -> Luigi\n",
      "Mario -> Luigi\n"
     ]
    }
   ],
   "source": [
    "# Advanced Problem Set Version 2\n",
    "# Problem 8: Update Rankings\n",
    "class Node:\n",
    "    def __init__(self, player, next=None):\n",
    "        self.player_name = player\n",
    "        self.next = next\n",
    "\n",
    "# For testing\n",
    "def print_linked_list(head):\n",
    "    current = head\n",
    "    while current:\n",
    "        print(current.player_name, end=\" -> \" if current.next else \"\\n\")\n",
    "        current = current.next\n",
    "\n",
    "def increment_rank(head, target):\n",
    "    if not head or target == 1:\n",
    "        return head\n",
    "    temp = Node(None)\n",
    "    temp.next = head\n",
    "    current = temp \n",
    "    for _ in range(target - 1):\n",
    "        if not current.next:\n",
    "            return head \n",
    "        current = current.next\n",
    "    \n",
    "    target_node = current.next\n",
    "    prev_node = current \n",
    "    \n",
    "    if not target_node or not target_node.next:\n",
    "        return head \n",
    "    next_node = target_node.next\n",
    "    \n",
    "    prev_node.next = next_node\n",
    "    target_node.next = next_node.next\n",
    "    next_node.next = target_node\n",
    "    \n",
    "    return temp.next\n",
    "\n",
    "# Example Usage\n",
    "racers1 = Node(\"Mario\", Node(\"Peach\", Node(\"Luigi\", Node(\"Daisy\"))))\n",
    "racers2 = Node(\"Mario\", Node(\"Luigi\"))\n",
    "\n",
    "print_linked_list(increment_rank(racers1, 3))  # Expected: Mario -> Luigi -> Peach -> Daisy\n",
    "print_linked_list(increment_rank(racers2, 1))  # Expected: Mario -> Luigi\n",
    "print_linked_list(increment_rank(None, 1))     # Expected: None"
   ]
  }
 ],
 "metadata": {
  "kernelspec": {
   "display_name": "base",
   "language": "python",
   "name": "python3"
  },
  "language_info": {
   "codemirror_mode": {
    "name": "ipython",
    "version": 3
   },
   "file_extension": ".py",
   "mimetype": "text/x-python",
   "name": "python",
   "nbconvert_exporter": "python",
   "pygments_lexer": "ipython3",
   "version": "3.12.4"
  }
 },
 "nbformat": 4,
 "nbformat_minor": 2
}

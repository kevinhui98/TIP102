{
 "cells": [
  {
   "cell_type": "code",
   "execution_count": 6,
   "metadata": {},
   "outputs": [
    {
     "name": "stdout",
     "output_type": "stream",
     "text": [
      "3\n"
     ]
    }
   ],
   "source": [
    "# Standard Problem Set Version 1\n",
    "# Problem 6: Volume Control\n",
    "class Node:\n",
    "\tdef __init__(self, value, next=None):\n",
    "\t\tself.value = value\n",
    "\t\tself.next = next\n",
    "\n",
    "# For testing\n",
    "def print_linked_list(head):\n",
    "    current = head\n",
    "    while current:\n",
    "        print(current.value, end=\" -> \" if current.next else \"\\n\")\n",
    "        current = current.next\n",
    "\n",
    "def count_critical_points(song_audio):\n",
    "    if not song_audio or not song_audio.next or not song_audio.next.next:\n",
    "        return 0  # Less than 3 nodes means no critical points can exist\n",
    "\n",
    "    count = 0\n",
    "    previous = song_audio  # Start with the head\n",
    "    current = song_audio.next\n",
    "    next_node = current.next\n",
    "\n",
    "    # Traverse the linked list\n",
    "    while next_node:\n",
    "        # Check for critical points\n",
    "        if (current.value < previous.value and current.value < next_node.value) or (current.value > previous.value and current.value > next_node.value):\n",
    "            count += 1\n",
    "            \n",
    "        # Move to the next set of nodes\n",
    "        previous = current\n",
    "        current = next_node\n",
    "        next_node = next_node.next\n",
    "\n",
    "    return count\n",
    "\n",
    "song_audio = Node(5, Node(3, Node(1, Node(2, Node(5, Node(1, Node(2)))))))\n",
    "\n",
    "print(count_critical_points(song_audio))"
   ]
  },
  {
   "cell_type": "code",
   "execution_count": 8,
   "metadata": {},
   "outputs": [
    {
     "name": "stdout",
     "output_type": "stream",
     "text": [
      "Troll's Bridge\n"
     ]
    }
   ],
   "source": [
    "# Standard Problem Set Version 2\n",
    "# Problem 6: Magic Loop\n",
    "class Node:\n",
    "    def __init__(self, value, next=None):\n",
    "        self.value = value\n",
    "        self.next = next\n",
    "\n",
    "# For testing\n",
    "def print_linked_list(head):\n",
    "    current = head\n",
    "    while current:\n",
    "        print(current.value, end=\" -> \" if current.next else \"\\n\")\n",
    "        current = current.next\n",
    "\n",
    "def loop_start(path_start):\n",
    "    slow = path_start\n",
    "    fast = path_start\n",
    "    while fast and fast.next:\n",
    "        slow = slow.next\n",
    "        fast = fast.next.next\n",
    "        if slow == fast:\n",
    "            break\n",
    "    else:\n",
    "        return None\n",
    "    slow = path_start\n",
    "    \n",
    "    while slow != fast:\n",
    "        slow = slow.next\n",
    "        fast = fast.next\n",
    "    return slow.value\n",
    "path_start = Node(\"Mystic Falls\")\n",
    "waypoint1 = Node(\"Troll's Bridge\")\n",
    "waypoint2 = Node(\"Elven Arbor\")\n",
    "waypoint3 = Node(\"Fairy Glade\")\n",
    "\n",
    "path_start.next = waypoint1\n",
    "waypoint1.next = waypoint2\n",
    "waypoint2.next = waypoint3\n",
    "waypoint3.next = waypoint1\n",
    "\n",
    "print(loop_start(path_start))"
   ]
  },
  {
   "cell_type": "code",
   "execution_count": 11,
   "metadata": {},
   "outputs": [
    {
     "name": "stdout",
     "output_type": "stream",
     "text": [
      "1 -> 3 -> 5 -> 2 -> 4\n",
      "2 -> 3 -> 6 -> 7 -> 1 -> 5 -> 4\n"
     ]
    }
   ],
   "source": [
    "# Advanced Problem Set Version 1\n",
    "# Problem 5: Grouping Experiments\n",
    "class Node:\n",
    "    def __init__(self, value, next=None):\n",
    "        self.value = value\n",
    "        self.next = next\n",
    "\n",
    "# For testing\n",
    "def print_linked_list(head):\n",
    "    current = head\n",
    "    while current:\n",
    "       print(current.value, end=\" -> \" if current.next else \"\\n\")\n",
    "       current = current.next\n",
    "\n",
    "def odd_even_experiments(exp_results):\n",
    "    if not exp_results:\n",
    "        return None\n",
    "    odd_head = odd_tail = None\n",
    "    even_head = even_tail = None\n",
    "    \n",
    "    current = exp_results\n",
    "    index = 1\n",
    "    \n",
    "    while current:\n",
    "        if index % 2 == 1:  # Odd index\n",
    "            if not odd_head:\n",
    "                odd_head = odd_tail = current\n",
    "            else:\n",
    "                odd_tail.next = current\n",
    "                odd_tail = odd_tail.next\n",
    "        else:  # Even index\n",
    "            if not even_head:\n",
    "                even_head = even_tail = current\n",
    "            else:\n",
    "                even_tail.next = current\n",
    "                even_tail = even_tail.next\n",
    "        \n",
    "        current = current.next\n",
    "        index += 1\n",
    "    \n",
    "    if even_tail:\n",
    "        even_tail.next = None\n",
    "    \n",
    "    if odd_tail:\n",
    "        odd_tail.next = even_head\n",
    "    \n",
    "    return odd_head\n",
    "experiment_results1 = Node(1, Node(2, Node(3, Node(4, Node(5)))))\n",
    "experiment_results2 = Node(2, Node(1, Node(3, Node(5, Node(6, Node(4, Node(7)))))))\n",
    "\n",
    "print_linked_list(odd_even_experiments(experiment_results1))\n",
    "print_linked_list(odd_even_experiments(experiment_results2))"
   ]
  },
  {
   "cell_type": "code",
   "execution_count": 14,
   "metadata": {},
   "outputs": [
    {
     "name": "stdout",
     "output_type": "stream",
     "text": [
      "[5, 5, 0]\n",
      "[7, 0, 5, 5, 0]\n"
     ]
    }
   ],
   "source": [
    "# Advanced Problem Set Version 2\n",
    "# Problem 5: Next Contestant to Beat\n",
    "class Node:\n",
    "    def __init__(self, value, next=None):\n",
    "        self.value = value\n",
    "        self.next = next\n",
    "\n",
    "# For testing\n",
    "def print_linked_list(head):\n",
    "\tcurrent = head\n",
    "\twhile current:\n",
    "\t\tprint(current.value, end=\" -> \" if current.next else \"\\n\")\n",
    "\t\tcurrent = current.next\n",
    "\n",
    "def next_highest_scoring_contestant(contestant_scores):\n",
    "    scores = []\n",
    "    current = contestant_scores\n",
    "    while current:\n",
    "        scores.append(current.value)\n",
    "        current = current.next\n",
    "\n",
    "    n = len(scores)\n",
    "    answer = [0] * n  \n",
    "    stack = []\n",
    "\n",
    "    for i in range(n):\n",
    "        while stack and scores[i] > scores[stack[-1]]:\n",
    "            index = stack.pop()\n",
    "            answer[index] = scores[i]  \n",
    "        stack.append(i) \n",
    "\n",
    "    return answer\n",
    "contestant_scores1 = Node(2, Node(1, Node(5)))\n",
    "contestant_scores2 = Node(2, Node(7, Node(4, Node(3, Node(5)))))\n",
    "\n",
    "print(next_highest_scoring_contestant(contestant_scores1))\n",
    "print(next_highest_scoring_contestant(contestant_scores2))"
   ]
  }
 ],
 "metadata": {
  "kernelspec": {
   "display_name": "base",
   "language": "python",
   "name": "python3"
  },
  "language_info": {
   "codemirror_mode": {
    "name": "ipython",
    "version": 3
   },
   "file_extension": ".py",
   "mimetype": "text/x-python",
   "name": "python",
   "nbconvert_exporter": "python",
   "pygments_lexer": "ipython3",
   "version": "3.12.4"
  }
 },
 "nbformat": 4,
 "nbformat_minor": 2
}

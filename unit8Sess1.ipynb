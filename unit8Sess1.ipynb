{
 "cells": [
  {
   "cell_type": "code",
   "execution_count": 2,
   "metadata": {},
   "outputs": [
    {
     "name": "stdout",
     "output_type": "stream",
     "text": [
      "True\n",
      "False\n"
     ]
    }
   ],
   "source": [
    "# Standard Problem Set Version 1\n",
    "# Problem 8: Flower Fields\n",
    "class TreeNode:\n",
    "    def __init__(self, value, left=None, right=None):\n",
    "        self.val = value\n",
    "        self.left = left\n",
    "        self.right = right\n",
    "\n",
    "def find_flower(root, flower):\n",
    "    if root is None:\n",
    "        return False\n",
    "    if root.val == flower:\n",
    "        return True\n",
    "    return find_flower(root.left, flower) or find_flower(root.right, flower)\n",
    "flower_field = TreeNode(\"Rose\", \n",
    "                        TreeNode(\"Lily\", TreeNode(\"Orchid\"), TreeNode(\"Lilac\")),\n",
    "                                TreeNode(\"Daisy\", None, TreeNode(\"Dahlia\")))\n",
    "\n",
    "print(find_flower(flower_field, \"Lilac\"))\n",
    "print(find_flower(flower_field, \"Hibiscus\"))"
   ]
  },
  {
   "cell_type": "code",
   "execution_count": 4,
   "metadata": {},
   "outputs": [
    {
     "name": "stdout",
     "output_type": "stream",
     "text": [
      "4\n",
      "4\n"
     ]
    }
   ],
   "source": [
    "# Standard Problem Set Version 2\n",
    "# Problem 8: Ocean Layers\n",
    "class TreeNode:\n",
    "    def __init__(self, value, left=None, right=None):\n",
    "        self.val = value\n",
    "        self.left = left\n",
    "        self.right = right\n",
    "\n",
    "def ocean_depth(root):\n",
    "    if not root:\n",
    "        return 0\n",
    "    \n",
    "    left_depth = ocean_depth(root.left)\n",
    "    right_depth = ocean_depth(root.right)\n",
    "    \n",
    "    return 1 + max(left_depth, right_depth)\n",
    "ocean = TreeNode(\"Sunlight\", \n",
    "                TreeNode(\"Twilight\", \n",
    "                        TreeNode(\"Abyss\", \n",
    "                                TreeNode(\"Trenches\")), TreeNode(\"Anglerfish\")),\n",
    "                                        TreeNode(\"Squid\", TreeNode(\"Giant Squid\")))\n",
    "tidal_zones = TreeNode(\"Spray Zone\", \n",
    "                      TreeNode(\"Beach\"), \n",
    "                              TreeNode(\"High Tide\", \n",
    "                                      TreeNode(\"Middle Tide\", None, TreeNode(\"Low Tide\"))))\n",
    "\n",
    "print(ocean_depth(ocean))\n",
    "print(ocean_depth(tidal_zones))"
   ]
  },
  {
   "cell_type": "code",
   "execution_count": 7,
   "metadata": {},
   "outputs": [
    {
     "name": "stdout",
     "output_type": "stream",
     "text": [
      "True\n",
      "False\n"
     ]
    }
   ],
   "source": [
    "# Advanced Problem Set Version 1\n",
    "# Problem 8: Twinning Trees\n",
    "class TreeNode:\n",
    "    def __init__(self, value, left=None, right=None):\n",
    "        self.val = value\n",
    "        self.left = left\n",
    "        self.right = right\n",
    "\n",
    "def is_identical(root1, root2):\n",
    "    # Both trees are empty\n",
    "    if root1 is None and root2 is None:\n",
    "        return True\n",
    "    \n",
    "    # One tree is empty, and the other is not\n",
    "    if root1 is None or root2 is None:\n",
    "        return False\n",
    "    \n",
    "    # Check the current nodes and recurse for left and right subtrees\n",
    "    return (root1.val == root2.val) and is_identical(root1.left, root2.left) and is_identical(root1.right, root2.right)\n",
    "\n",
    "root1 = TreeNode(1, TreeNode(2), TreeNode(3))\n",
    "root2 = TreeNode(1, TreeNode(2), TreeNode(3))\n",
    "\n",
    "\n",
    "root3 = TreeNode(1, TreeNode(2))\n",
    "root4 = TreeNode(1, None, TreeNode(2))\n",
    "\n",
    "print(is_identical(root1, root2))\n",
    "print(is_identical(root3, root4))"
   ]
  },
  {
   "cell_type": "code",
   "execution_count": 11,
   "metadata": {},
   "outputs": [
    {
     "name": "stdout",
     "output_type": "stream",
     "text": [
      "True\n",
      "False\n"
     ]
    }
   ],
   "source": [
    "# Advanced Problem Set Version 2\n",
    "# Problem 8: Coral Reef Symmetry\n",
    "class TreeNode:\n",
    "    def __init__(self, value, left=None,right=None):\n",
    "        self.val = value\n",
    "        self.left = left\n",
    "        self.right = right\n",
    "\n",
    "def is_symmetric(root):\n",
    "    if not root:\n",
    "        return True\n",
    "    \n",
    "    def is_mirror(t1, t2):\n",
    "        if not t1 and not t2:\n",
    "            return True\n",
    "        if not t1 or not t2:\n",
    "            return False\n",
    "        return (t1.val == t2.val) and is_mirror(t1.left, t2.right) and is_mirror(t1.right, t2.left)\n",
    "\n",
    "    return is_mirror(root.left, root.right)\n",
    "\n",
    "coral1 = TreeNode('A', \n",
    "                  TreeNode('B', TreeNode('C'), TreeNode('D')), \n",
    "                          TreeNode('B', TreeNode('D'), TreeNode('C')))\n",
    "\n",
    "coral2 = TreeNode('A', \n",
    "                  TreeNode('B', TreeNode('C'), TreeNode('D')), \n",
    "                          TreeNode('B', TreeNode('C'), TreeNode('D')))\n",
    "\n",
    "print(is_symmetric(coral1))\n",
    "print(is_symmetric(coral2))\n"
   ]
  }
 ],
 "metadata": {
  "kernelspec": {
   "display_name": "base",
   "language": "python",
   "name": "python3"
  },
  "language_info": {
   "codemirror_mode": {
    "name": "ipython",
    "version": 3
   },
   "file_extension": ".py",
   "mimetype": "text/x-python",
   "name": "python",
   "nbconvert_exporter": "python",
   "pygments_lexer": "ipython3",
   "version": "3.12.4"
  }
 },
 "nbformat": 4,
 "nbformat_minor": 2
}

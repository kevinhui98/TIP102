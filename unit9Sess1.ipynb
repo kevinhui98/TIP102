{
 "cells": [
  {
   "cell_type": "code",
   "execution_count": 3,
   "metadata": {},
   "outputs": [],
   "source": [
    "from collections import deque \n",
    "def build_tree(values):\n",
    "  if not values:\n",
    "      return None\n",
    "\n",
    "  def get_key_value(item):\n",
    "      if isinstance(item, tuple):\n",
    "          return item[0], item[1]\n",
    "      else:\n",
    "          return None, item\n",
    "\n",
    "  key, value = get_key_value(values[0])\n",
    "  root = TreeNode(value, key)\n",
    "  queue = deque([root])\n",
    "  index = 1\n",
    "\n",
    "  while queue:\n",
    "      node = queue.popleft()\n",
    "      if index < len(values) and values[index] is not None:\n",
    "          left_key, left_value = get_key_value(values[index])\n",
    "          node.left = TreeNode(left_value, left_key)\n",
    "          queue.append(node.left)\n",
    "      index += 1\n",
    "      if index < len(values) and values[index] is not None:\n",
    "          right_key, right_value = get_key_value(values[index])\n",
    "          node.right = TreeNode(right_value, right_key)\n",
    "          queue.append(node.right)\n",
    "      index += 1\n",
    "\n",
    "  return root\n",
    "def print_tree(root):\n",
    "    if not root:\n",
    "        return \"Empty\"\n",
    "    result = []\n",
    "    queue = deque([root])\n",
    "    while queue:\n",
    "        node = queue.popleft()\n",
    "        if node:\n",
    "            result.append(node.val)\n",
    "            queue.append(node.left)\n",
    "            queue.append(node.right)\n",
    "        else:\n",
    "            result.append(None)\n",
    "    while result and result[-1] is None:\n",
    "        result.pop()\n",
    "    print(result)\n"
   ]
  },
  {
   "cell_type": "code",
   "execution_count": 20,
   "metadata": {},
   "outputs": [
    {
     "name": "stdout",
     "output_type": "stream",
     "text": [
      "['Chocolate', 'Lemon', 'Vanilla', 'Strawberry', 'Hazelnut', 'Red Velvet']\n"
     ]
    }
   ],
   "source": [
    "# Standard Problem Set Version 1\n",
    "# Problem 6: Icing Cupcakes in Zigzag Order\n",
    "\n",
    "class TreeNode():\n",
    "     def __init__(self, flavor, left=None, right=None):\n",
    "        self.val = flavor\n",
    "        self.left = left\n",
    "        self.right = right\n",
    "\n",
    "def zigzag_icing_order(cupcakes):\n",
    "    if not cupcakes:\n",
    "        return []\n",
    "    \n",
    "    result = []\n",
    "    queue = deque([cupcakes])\n",
    "    level = 0 \n",
    "    \n",
    "    while queue:\n",
    "        level_size = len(queue)\n",
    "        current_level = []\n",
    "        \n",
    "        for _ in range(level_size):\n",
    "            node = queue.popleft()\n",
    "            current_level.append(node.val)\n",
    "            \n",
    "            if node.left:\n",
    "                queue.append(node.left)\n",
    "            if node.right:\n",
    "                queue.append(node.right)\n",
    "        if level % 2 != 0:\n",
    "            current_level.reverse()\n",
    "        \n",
    "        result.extend(current_level)\n",
    "        level += 1\n",
    "    \n",
    "    return result\n",
    "# Using build_tree() function included at top of page\n",
    "flavors = [\"Chocolate\", \"Vanilla\", \"Lemon\", \"Strawberry\", None, \"Hazelnut\", \"Red Velvet\"]\n",
    "cupcakes = build_tree(flavors)\n",
    "print(zigzag_icing_order(cupcakes))"
   ]
  },
  {
   "cell_type": "code",
   "execution_count": 21,
   "metadata": {},
   "outputs": [
    {
     "name": "stdout",
     "output_type": "stream",
     "text": [
      "101\n",
      "101\n"
     ]
    }
   ],
   "source": [
    "# Standard Problem Set Version 2\n",
    "# Problem 6: Kth Spookiest Room in the Hotel\n",
    "class TreeNode():\n",
    "     def __init__(self, key, value, left=None, right=None):\n",
    "        self.key = key\n",
    "        self.val = value\n",
    "        self.left = left\n",
    "        self.right = right\n",
    "\n",
    "def kth_spookiest(root, k):\n",
    "    def in_order_traversal(node):\n",
    "        if node is None:\n",
    "            return []\n",
    "        return in_order_traversal(node.left) + [(node.key, node.val)] + in_order_traversal(node.right)\n",
    "    \n",
    "    sorted_rooms = in_order_traversal(root)\n",
    "    return sorted_rooms[k-1][0]\n",
    "rooms = [(3, \"Lobby\"), (1, 101), (4, 102), None, (2, 201)]\n",
    "hotel1 = build_tree(rooms)\n",
    "\n",
    "rooms = [(5, 'Lobby'), (3, 101), (6, 102), (2, 201), (4, 202), None, None, (1, 301)]\n",
    "hotel2 = build_tree(rooms)\n",
    "\n",
    "print(kth_spookiest(hotel1, 1))\n",
    "print(kth_spookiest(hotel2, 3))"
   ]
  },
  {
   "cell_type": "code",
   "execution_count": 22,
   "metadata": {},
   "outputs": [
    {
     "name": "stdout",
     "output_type": "stream",
     "text": [
      "7\n"
     ]
    }
   ],
   "source": [
    "# Advanced Problem Set Version 1\n",
    "# Problem 6: Maximum Icing Difference\n",
    "class TreeNode():\n",
    "    def __init__(self, sweetness, left=None, right=None):\n",
    "        self.val = sweetness\n",
    "        self.left = left\n",
    "        self.right = right\n",
    "\n",
    "def max_icing_difference(root):\n",
    "    def dfs(node, min_val, max_val):\n",
    "        # Base case: If the node is None, return the current max difference\n",
    "        if not node:\n",
    "            return max_val - min_val\n",
    "        \n",
    "        # Update the current min and max values\n",
    "        min_val = min(min_val, node.val)\n",
    "        max_val = max(max_val, node.val)\n",
    "        \n",
    "        # Recursively check the left and right children\n",
    "        left_diff = dfs(node.left, min_val, max_val)\n",
    "        right_diff = dfs(node.right, min_val, max_val)\n",
    "        \n",
    "        # The result for this subtree is the maximum difference found in both subtrees\n",
    "        return max(left_diff, right_diff)\n",
    "    \n",
    "    # Start the DFS from the root, with its value as both the initial min and max\n",
    "    if not root:\n",
    "        return 0\n",
    "    \n",
    "    return dfs(root, root.val, root.val)\n",
    "\n",
    "# Using build_tree() function included at top of page\n",
    "sweetness_levels = [8, 3, 10, 1, 6, None, 14, None, None, 4, 7, 13]\n",
    "display = build_tree(sweetness_levels)\n",
    "\n",
    "print(max_icing_difference(display))"
   ]
  },
  {
   "cell_type": "code",
   "execution_count": null,
   "metadata": {},
   "outputs": [
    {
     "name": "stdout",
     "output_type": "stream",
     "text": [
      "[4, 5, 2, None, None, 3, 1]\n"
     ]
    }
   ],
   "source": [
    "# Advanced Problem Set Version 2\n",
    "# Problem 6: Topsy Turvy\n",
    "class TreeNode():\n",
    "     def __init__(self, value, left=None, right=None):\n",
    "        self.val = value\n",
    "        self.left = left\n",
    "        self.right = right\n",
    "\n",
    "def flip_hotel(hotel):\n",
    "    def flip(node):\n",
    "        if node is None or node.left is None:\n",
    "            return node\n",
    "        \n",
    "        new_root = flip(node.left)\n",
    "        node.left.left = node.right \n",
    "        node.left.right = node  \n",
    "        # Set the current node's left and right to None\n",
    "        node.left = None\n",
    "        node.right = None\n",
    "        \n",
    "        return new_root\n",
    "\n",
    "    return flip(hotel)\n",
    "# Using build_tree() function included at top of page\n",
    "rooms = [1, 2, 3, 4, 5]\n",
    "hotel = build_tree(rooms)\n",
    "# Using print_tree() function included at top of page\n",
    "print_tree(flip_hotel(hotel))"
   ]
  },
  {
   "cell_type": "code",
   "execution_count": null,
   "metadata": {},
   "outputs": [],
   "source": []
  }
 ],
 "metadata": {
  "kernelspec": {
   "display_name": "base",
   "language": "python",
   "name": "python3"
  },
  "language_info": {
   "codemirror_mode": {
    "name": "ipython",
    "version": 3
   },
   "file_extension": ".py",
   "mimetype": "text/x-python",
   "name": "python",
   "nbconvert_exporter": "python",
   "pygments_lexer": "ipython3",
   "version": "3.12.4"
  }
 },
 "nbformat": 4,
 "nbformat_minor": 2
}

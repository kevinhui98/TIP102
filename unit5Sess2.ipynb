{
 "cells": [
  {
   "cell_type": "code",
   "execution_count": 10,
   "metadata": {},
   "outputs": [
    {
     "name": "stdout",
     "output_type": "stream",
     "text": [
      "['Saharah', 'K.K. Slider', 'Isabelle']\n"
     ]
    },
    {
     "data": {
      "text/plain": [
       "'Isabelle <-> K.K. Slider <-> Saharah'"
      ]
     },
     "execution_count": 10,
     "metadata": {},
     "output_type": "execute_result"
    }
   ],
   "source": [
    "# Standard Problem Set Version 1\n",
    "# Problem 10: Print Backwards\n",
    "class Node:\n",
    "    def __init__(self, value, next=None, prev=None):\n",
    "        self.value = value\n",
    "        self.next = next\n",
    "        self.prev = prev\n",
    "\n",
    "def print_reverse(tail):\n",
    "    node = tail\n",
    "    stack = []\n",
    "    while node != None:\n",
    "        stack.append(node.value)\n",
    "        node = node.prev\n",
    "    empty = Node(None)\n",
    "    res = \"\"\n",
    "    print(stack)\n",
    "    while stack:\n",
    "        temp = Node(stack.pop())\n",
    "        temp.prev = empty\n",
    "        empty.next = temp\n",
    "        empty = empty.next\n",
    "        res += temp.value\n",
    "        if stack:\n",
    "            res += \" <-> \"\n",
    "    return res\n",
    "        \n",
    "        \n",
    "isabelle = Node(\"Isabelle\")\n",
    "kk_slider = Node(\"K.K. Slider\")\n",
    "saharah = Node(\"Saharah\")\n",
    "isabelle.next = kk_slider\n",
    "kk_slider.next = saharah\n",
    "saharah.prev = kk_slider\n",
    "kk_slider.prev = isabelle\n",
    "\n",
    "# Linked List: Isabelle <-> K.K. Slider <-> Saharah\n",
    "print_reverse(saharah)"
   ]
  },
  {
   "cell_type": "code",
   "execution_count": 11,
   "metadata": {},
   "outputs": [
    {
     "name": "stdout",
     "output_type": "stream",
     "text": [
      "4\n"
     ]
    }
   ],
   "source": [
    "# Standard Problem Set Version 2\n",
    "# Problem 10: Find Length of Doubly Linked List from Any Node\n",
    "class Node:\n",
    "    def __init__(self, value, next=None, prev=None):\n",
    "        self.value = value\n",
    "        self.next = next\n",
    "        self.prev = prev\n",
    "\n",
    "# For testing\n",
    "def print_linked_list(head):\n",
    "    current = head\n",
    "    while current:\n",
    "        print(current.value, end=\" -> \" if current.next else \"\\n\")\n",
    "        current = current.next\n",
    "\n",
    "def get_length(node):\n",
    "    back = node.prev\n",
    "    forward = node\n",
    "    len = 0\n",
    "    while forward:\n",
    "        len += 1\n",
    "        forward = forward.next\n",
    "    \n",
    "    while back:\n",
    "        len += 1\n",
    "        back = back.prev\n",
    "    return len\n",
    "yoshi_falls = Node(\"Yoshi Falls\")\n",
    "moo_moo_farm = Node(\"Moo Moo Farm\")\n",
    "rainbow_road = Node(\"Rainbow Road\")\n",
    "dk_mountain = Node(\"DK Mountain\")\n",
    "yoshi_falls.next = moo_moo_farm\n",
    "moo_moo_farm.next = rainbow_road\n",
    "rainbow_road.next = dk_mountain\n",
    "dk_mountain.prev = rainbow_road\n",
    "rainbow_road.prev = moo_moo_farm\n",
    "moo_moo_farm.prev = yoshi_falls\n",
    "\n",
    "# List: Yoshi Falls <-> Moo Moo Farm <-> Rainbow Road <-> DK Mountain\n",
    "print(get_length(rainbow_road))"
   ]
  },
  {
   "cell_type": "code",
   "execution_count": 23,
   "metadata": {},
   "outputs": [
    {
     "name": "stdout",
     "output_type": "stream",
     "text": [
      "orange -> cherry -> apple -> peach -> pear\n"
     ]
    }
   ],
   "source": [
    "# Advanced Problem Set Version 1\n",
    "# Problem 6: Careful Reverse\n",
    "class Node:\n",
    "\tdef __init__(self, value, next=None):\n",
    "\t\tself.value = value\n",
    "\t\tself.next = next\n",
    "\n",
    "# For testing\n",
    "def print_linked_list(head):\n",
    "    current = head\n",
    "    while current:\n",
    "        print(current.value, end=\" -> \" if current.next else \"\\n\")\n",
    "        current = current.next\n",
    "        \n",
    "def reverse_first_k(head, k):\n",
    "    if head is None or k <= 0:\n",
    "        return head\n",
    "    current = head\n",
    "    prev = None\n",
    "    count = 0\n",
    "    while current and count < k:\n",
    "        next_node = current.next\n",
    "        current.next = prev \n",
    "        prev = current\n",
    "        current = next_node\n",
    "        count += 1\n",
    "    \n",
    "    if head:\n",
    "        head.next = current\n",
    "    \n",
    "    return prev\n",
    "head = Node(\"apple\", Node(\"cherry\", Node(\"orange\", Node(\"peach\", Node(\"pear\")))))\n",
    "\n",
    "print_linked_list(reverse_first_k(head, 3))"
   ]
  },
  {
   "cell_type": "code",
   "execution_count": 26,
   "metadata": {},
   "outputs": [
    {
     "name": "stdout",
     "output_type": "stream",
     "text": [
      "True\n",
      "False\n"
     ]
    }
   ],
   "source": [
    "# Advanced Problem Set Version 2\n",
    "# Problem 6: Symmetrical\n",
    "class Node:\n",
    "    def __init__(self, value, next=None):\n",
    "        self.value = value\n",
    "        self.next = next\n",
    "\n",
    "# For testing\n",
    "def print_linked_list(head):\n",
    "    current = head\n",
    "    while current:\n",
    "        print(current.value, end=\" -> \" if current.next else \"\\n\")\n",
    "        current = current.next\n",
    "\n",
    "def is_symmetric(head):\n",
    "    if head is None:\n",
    "        return True\n",
    "    slow = fast = head\n",
    "    prev = None\n",
    "    \n",
    "    while fast and fast.next:\n",
    "        fast = fast.next.next\n",
    "        prev, slow = slow, slow.next\n",
    "    \n",
    "    second_half_head = None\n",
    "    while slow:\n",
    "        next_node = slow.next\n",
    "        slow.next = second_half_head\n",
    "        second_half_head = slow\n",
    "        slow = next_node\n",
    "    first_half_head = head\n",
    "    second_half_copy = second_half_head\n",
    "    \n",
    "    while second_half_head:\n",
    "        if first_half_head.value != second_half_head.value:\n",
    "            return False\n",
    "        first_half_head = first_half_head.next\n",
    "        second_half_head = second_half_head.next\n",
    "\n",
    "    slow = second_half_copy\n",
    "    prev = None\n",
    "    while slow:\n",
    "        next_node = slow.next\n",
    "        slow.next = prev\n",
    "        prev = slow\n",
    "        slow = next_node\n",
    "    \n",
    "    return True\n",
    "\n",
    "head1 = Node(\"Bitterling\", Node(\"Crawfish\", Node(\"Bitterling\")))\n",
    "head2 = Node(\"Bitterling\", Node(\"Carp\", Node(\"Koi\")))\n",
    "\n",
    "print(is_symmetric(head1))\n",
    "print(is_symmetric(head2))"
   ]
  }
 ],
 "metadata": {
  "kernelspec": {
   "display_name": "base",
   "language": "python",
   "name": "python3"
  },
  "language_info": {
   "codemirror_mode": {
    "name": "ipython",
    "version": 3
   },
   "file_extension": ".py",
   "mimetype": "text/x-python",
   "name": "python",
   "nbconvert_exporter": "python",
   "pygments_lexer": "ipython3",
   "version": "3.12.4"
  }
 },
 "nbformat": 4,
 "nbformat_minor": 2
}

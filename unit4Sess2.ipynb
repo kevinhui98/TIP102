{
 "cells": [
  {
   "cell_type": "code",
   "execution_count": 9,
   "metadata": {},
   "outputs": [
    {
     "name": "stdout",
     "output_type": "stream",
     "text": [
      "('Paris', 3)\n",
      "('London', 3)\n",
      "('Dubai', 3)\n"
     ]
    }
   ],
   "source": [
    "# Standard Problem Set Version 1\n",
    "# Problem 8: Track Popular Destinations\n",
    "def most_popular_destination(visits):\n",
    "    dict = {}\n",
    "    for cities in visits:\n",
    "        if cities[0] in dict:\n",
    "            dict[cities[0]] += 1\n",
    "        else:\n",
    "            dict[cities[0]] = 1\n",
    "    most_pop = max(dict, key=dict.get)\n",
    "    return (most_pop, dict.get(most_pop))\n",
    "visits = [(\"Paris\", \"2024-07-15\"), (\"Tokyo\", \"2024-08-01\"), (\"Paris\", \"2024-08-05\"), (\"New York\", \"2024-08-10\"), (\"Tokyo\", \"2024-08-15\"), (\"Paris\", \"2024-08-20\")]\n",
    "print(most_popular_destination(visits))\n",
    "\n",
    "visits_2 = [(\"London\", \"2024-06-01\"), (\"Berlin\", \"2024-06-15\"), (\"London\", \"2024-07-01\"), (\"Berlin\", \"2024-07-10\"), (\"London\", \"2024-07-15\")]\n",
    "print(most_popular_destination(visits_2))\n",
    "\n",
    "visits_3 = [(\"Sydney\", \"2024-05-01\"), (\"Dubai\", \"2024-05-15\"), (\"Sydney\", \"2024-05-20\"), (\"Dubai\", \"2024-06-01\"), (\"Dubai\", \"2024-06-15\")]\n",
    "print(most_popular_destination(visits_3))\n",
    "    "
   ]
  },
  {
   "cell_type": "code",
   "execution_count": 10,
   "metadata": {},
   "outputs": [
    {
     "name": "stdout",
     "output_type": "stream",
     "text": [
      "30\n",
      "30\n",
      "10\n"
     ]
    }
   ],
   "source": [
    "# Standard Problem Set Version 2\n",
    "# Problem 8: Find Longest Consecutive Listen Gaps\n",
    "def find_longest_gap(timestamps):\n",
    "    longest_gap = 0\n",
    "    for i in range(0, len(timestamps)-1,2):\n",
    "        gap = timestamps[i+1] - timestamps[i]\n",
    "        longest_gap = max(longest_gap, gap)\n",
    "    return longest_gap\n",
    "timestamps1 = [30, 50, 70, 100, 120, 150]\n",
    "print(find_longest_gap(timestamps1))\n",
    "\n",
    "timestamps2 = [10, 20, 30, 50, 60, 90]\n",
    "print(find_longest_gap(timestamps2))\n",
    "\n",
    "timestamps3 = [5, 10, 15, 25, 35, 45]\n",
    "print(find_longest_gap(timestamps3))"
   ]
  },
  {
   "cell_type": "code",
   "execution_count": 11,
   "metadata": {},
   "outputs": [
    {
     "name": "stdout",
     "output_type": "stream",
     "text": [
      "True\n",
      "False\n"
     ]
    }
   ],
   "source": [
    "# Advanced Problem Set Version 1\n",
    "# Problem 8: Analyze Storyline Continuity\n",
    "def analyze_storyline_continuity(scenes):\n",
    "    curr_timestamp = scenes[0][\"timestamp\"]\n",
    "    for scene in scenes:\n",
    "        if curr_timestamp > scene[\"timestamp\"]:\n",
    "            return False\n",
    "        curr_timestamp = scene[\"timestamp\"]\n",
    "    return True\n",
    "scenes = [\n",
    "    {\"scene\": \"The hero enters the dark forest.\", \"timestamp\": 1},\n",
    "    {\"scene\": \"A mysterious figure appears.\", \"timestamp\": 2},\n",
    "    {\"scene\": \"The hero faces his fears.\", \"timestamp\": 3},\n",
    "    {\"scene\": \"The hero finds a hidden treasure.\", \"timestamp\": 4},\n",
    "    {\"scene\": \"An eerie silence fills the air.\", \"timestamp\": 5}\n",
    "]\n",
    "\n",
    "continuity = analyze_storyline_continuity(scenes)\n",
    "print(continuity)\n",
    "\n",
    "scenes = [\n",
    "    {\"scene\": \"The spaceship lands on an alien planet.\", \"timestamp\": 3},\n",
    "    {\"scene\": \"A strange creature approaches.\", \"timestamp\": 2},\n",
    "    {\"scene\": \"The crew explores the new world.\", \"timestamp\": 4},\n",
    "    {\"scene\": \"The crew encounters hostile forces.\", \"timestamp\": 5},\n",
    "    {\"scene\": \"The crew makes a narrow escape.\", \"timestamp\": 6}\n",
    "]\n",
    "\n",
    "continuity = analyze_storyline_continuity(scenes)\n",
    "print(continuity)"
   ]
  },
  {
   "cell_type": "code",
   "execution_count": 13,
   "metadata": {},
   "outputs": [
    {
     "name": "stdout",
     "output_type": "stream",
     "text": [
      "True\n",
      "False\n"
     ]
    }
   ],
   "source": [
    "# Advanced Problem Set Version 2\n",
    "# Problem 8: Manage Expiration Dates\n",
    "def check_expiration_order(expiration_dates):\n",
    "    for i in range(1, len(expiration_dates)):\n",
    "        if expiration_dates[i-1][1] > expiration_dates[i][1]:\n",
    "            return False\n",
    "    return True\n",
    "expiration_dates_1 = [\n",
    "    (\"Milk\", \"2024-08-05\"),\n",
    "    (\"Bread\", \"2024-08-10\"),\n",
    "    (\"Eggs\", \"2024-08-12\"),\n",
    "    (\"Cheese\", \"2024-08-15\")\n",
    "]\n",
    "\n",
    "expiration_dates_2 = [\n",
    "    (\"Milk\", \"2024-08-05\"),\n",
    "    (\"Bread\", \"2024-08-12\"),\n",
    "    (\"Eggs\", \"2024-08-10\"),\n",
    "    (\"Cheese\", \"2024-08-15\")\n",
    "]\n",
    "\n",
    "print(check_expiration_order(expiration_dates_1)) \n",
    "print(check_expiration_order(expiration_dates_2)) "
   ]
  }
 ],
 "metadata": {
  "kernelspec": {
   "display_name": "base",
   "language": "python",
   "name": "python3"
  },
  "language_info": {
   "codemirror_mode": {
    "name": "ipython",
    "version": 3
   },
   "file_extension": ".py",
   "mimetype": "text/x-python",
   "name": "python",
   "nbconvert_exporter": "python",
   "pygments_lexer": "ipython3",
   "version": "3.12.4"
  }
 },
 "nbformat": 4,
 "nbformat_minor": 2
}
